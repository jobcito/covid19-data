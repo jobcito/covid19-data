{
 "cells": [
  {
   "cell_type": "code",
   "execution_count": 1,
   "metadata": {},
   "outputs": [],
   "source": [
    "import pandas as pd"
   ]
  },
  {
   "cell_type": "code",
   "execution_count": 2,
   "metadata": {},
   "outputs": [
    {
     "name": "stdout",
     "output_type": "stream",
     "text": [
      "  Gender   Age\n",
      "0      F  0-17\n",
      "1      F  0-17\n",
      "2      F  0-17\n",
      "3      F  0-17\n",
      "4      M   +55\n"
     ]
    }
   ],
   "source": [
    "d = {'Gender': ['F','F','F','F','M'], \n",
    "    'Age': ['0-17','0-17','0-17','0-17','+55']\n",
    "    }\n",
    "df = pd.DataFrame(data=d)\n",
    "print(df)"
   ]
  },
  {
   "cell_type": "code",
   "execution_count": 3,
   "metadata": {},
   "outputs": [
    {
     "name": "stdout",
     "output_type": "stream",
     "text": [
      "  Gender Age\n",
      "0      F  17\n",
      "1      F  17\n",
      "2      F  17\n",
      "3      F  17\n",
      "4      M  60\n"
     ]
    }
   ],
   "source": [
    "df.loc[df['Age'] == '0-17', 'Age'] = '17'\n",
    "df.loc[df['Age'] == '+55', 'Age'] = '60'\n",
    "\n",
    "print(df)"
   ]
  },
  {
   "cell_type": "code",
   "execution_count": null,
   "metadata": {},
   "outputs": [],
   "source": []
  }
 ],
 "metadata": {
  "kernelspec": {
   "display_name": "Python 3",
   "language": "python",
   "name": "python3"
  },
  "language_info": {
   "codemirror_mode": {
    "name": "ipython",
    "version": 3
   },
   "file_extension": ".py",
   "mimetype": "text/x-python",
   "name": "python",
   "nbconvert_exporter": "python",
   "pygments_lexer": "ipython3",
   "version": "3.7.6"
  }
 },
 "nbformat": 4,
 "nbformat_minor": 4
}
