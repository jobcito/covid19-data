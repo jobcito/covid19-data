{
 "cells": [
  {
   "cell_type": "markdown",
   "metadata": {},
   "source": [
    "# Notebook para experimentar con representación de los datos del Minsal respecto al Covid19"
   ]
  },
  {
   "cell_type": "code",
   "execution_count": 201,
   "metadata": {},
   "outputs": [],
   "source": [
    "import pandas as pd\n",
    "import matplotlib.pyplot as plt\n",
    "import matplotlib.ticker as ticker\n",
    "import numpy as np\n",
    "import calendar\n",
    "\n",
    "#from matplotlib.ticker import NullFormatter  # useful for `logit` scale"
   ]
  },
  {
   "cell_type": "markdown",
   "metadata": {},
   "source": [
    "### Se lee de archivo directamente de repositorio Git Hub"
   ]
  },
  {
   "cell_type": "code",
   "execution_count": 202,
   "metadata": {},
   "outputs": [],
   "source": [
    "\n",
    "\n",
    "url_resumen_nacional = \"https://raw.githubusercontent.com/jorgeperezrojas/covid19-data/master/csv/resumen_nacional.csv\"\n",
    "\n",
    "##data = pd.read_csv(\"../csv/resumen_nacional.csv\")\n",
    "data = pd.read_csv(url_resumen_nacional)\n",
    "\n",
    "#data_pacientes_en_uci = pd.read_csv(\"../csv/pacientes_en_uci.csv\")"
   ]
  },
  {
   "cell_type": "markdown",
   "metadata": {},
   "source": [
    "### Se ve que la carga sea correcta"
   ]
  },
  {
   "cell_type": "code",
   "execution_count": 203,
   "metadata": {
    "scrolled": true
   },
   "outputs": [
    {
     "data": {
      "text/html": [
       "<div>\n",
       "<style scoped>\n",
       "    .dataframe tbody tr th:only-of-type {\n",
       "        vertical-align: middle;\n",
       "    }\n",
       "\n",
       "    .dataframe tbody tr th {\n",
       "        vertical-align: top;\n",
       "    }\n",
       "\n",
       "    .dataframe thead th {\n",
       "        text-align: right;\n",
       "    }\n",
       "</style>\n",
       "<table border=\"1\" class=\"dataframe\">\n",
       "  <thead>\n",
       "    <tr style=\"text-align: right;\">\n",
       "      <th></th>\n",
       "      <th>dia</th>\n",
       "      <th>confirmados</th>\n",
       "      <th>muertes</th>\n",
       "    </tr>\n",
       "  </thead>\n",
       "  <tbody>\n",
       "    <tr>\n",
       "      <th>0</th>\n",
       "      <td>03/07/2020</td>\n",
       "      <td>7</td>\n",
       "      <td>0</td>\n",
       "    </tr>\n",
       "    <tr>\n",
       "      <th>1</th>\n",
       "      <td>03/08/2020</td>\n",
       "      <td>9</td>\n",
       "      <td>0</td>\n",
       "    </tr>\n",
       "    <tr>\n",
       "      <th>2</th>\n",
       "      <td>03/09/2020</td>\n",
       "      <td>12</td>\n",
       "      <td>0</td>\n",
       "    </tr>\n",
       "    <tr>\n",
       "      <th>3</th>\n",
       "      <td>03/10/2020</td>\n",
       "      <td>17</td>\n",
       "      <td>0</td>\n",
       "    </tr>\n",
       "    <tr>\n",
       "      <th>4</th>\n",
       "      <td>03/11/2020</td>\n",
       "      <td>23</td>\n",
       "      <td>0</td>\n",
       "    </tr>\n",
       "    <tr>\n",
       "      <th>...</th>\n",
       "      <td>...</td>\n",
       "      <td>...</td>\n",
       "      <td>...</td>\n",
       "    </tr>\n",
       "    <tr>\n",
       "      <th>86</th>\n",
       "      <td>06/01/2020</td>\n",
       "      <td>105159</td>\n",
       "      <td>1113</td>\n",
       "    </tr>\n",
       "    <tr>\n",
       "      <th>87</th>\n",
       "      <td>06/02/2020</td>\n",
       "      <td>108686</td>\n",
       "      <td>1113</td>\n",
       "    </tr>\n",
       "    <tr>\n",
       "      <th>88</th>\n",
       "      <td>06/03/2020</td>\n",
       "      <td>113628</td>\n",
       "      <td>1275</td>\n",
       "    </tr>\n",
       "    <tr>\n",
       "      <th>89</th>\n",
       "      <td>06/04/2020</td>\n",
       "      <td>118292</td>\n",
       "      <td>1356</td>\n",
       "    </tr>\n",
       "    <tr>\n",
       "      <th>90</th>\n",
       "      <td>06/06/2020</td>\n",
       "      <td>122,499</td>\n",
       "      <td>1,448</td>\n",
       "    </tr>\n",
       "  </tbody>\n",
       "</table>\n",
       "<p>91 rows × 3 columns</p>\n",
       "</div>"
      ],
      "text/plain": [
       "           dia confirmados muertes\n",
       "0   03/07/2020           7       0\n",
       "1   03/08/2020           9       0\n",
       "2   03/09/2020          12       0\n",
       "3   03/10/2020          17       0\n",
       "4   03/11/2020          23       0\n",
       "..         ...         ...     ...\n",
       "86  06/01/2020      105159    1113\n",
       "87  06/02/2020      108686    1113\n",
       "88  06/03/2020      113628    1275\n",
       "89  06/04/2020      118292    1356\n",
       "90  06/06/2020     122,499   1,448\n",
       "\n",
       "[91 rows x 3 columns]"
      ]
     },
     "execution_count": 203,
     "metadata": {},
     "output_type": "execute_result"
    }
   ],
   "source": [
    "data"
   ]
  },
  {
   "cell_type": "markdown",
   "metadata": {},
   "source": [
    "Se guarda el nro de lineas"
   ]
  },
  {
   "cell_type": "code",
   "execution_count": 204,
   "metadata": {},
   "outputs": [
    {
     "data": {
      "text/plain": [
       "90"
      ]
     },
     "execution_count": 204,
     "metadata": {},
     "output_type": "execute_result"
    }
   ],
   "source": [
    "#data.describe()\n",
    "n = data[\"dia\"].count()-1\n",
    "n"
   ]
  },
  {
   "cell_type": "markdown",
   "metadata": {},
   "source": [
    "## Se imprime un resumen del día"
   ]
  },
  {
   "cell_type": "code",
   "execution_count": 205,
   "metadata": {},
   "outputs": [
    {
     "name": "stdout",
     "output_type": "stream",
     "text": [
      "Total de Confirmados  06/06/2020  =  122,499\n",
      "Total de Fallecidos al  06/06/2020  =  1,448\n"
     ]
    },
    {
     "ename": "TypeError",
     "evalue": "unsupported operand type(s) for -: 'str' and 'str'",
     "output_type": "error",
     "traceback": [
      "\u001b[1;31m---------------------------------------------------------------------------\u001b[0m",
      "\u001b[1;31mTypeError\u001b[0m                                 Traceback (most recent call last)",
      "\u001b[1;32m<ipython-input-205-1a301bc38b7c>\u001b[0m in \u001b[0;36m<module>\u001b[1;34m\u001b[0m\n\u001b[0;32m      2\u001b[0m \u001b[0mprint\u001b[0m\u001b[1;33m(\u001b[0m\u001b[1;34m\"Total de Fallecidos al \"\u001b[0m\u001b[1;33m,\u001b[0m \u001b[0mdata\u001b[0m\u001b[1;33m[\u001b[0m\u001b[1;34m\"dia\"\u001b[0m\u001b[1;33m]\u001b[0m\u001b[1;33m[\u001b[0m\u001b[0mn\u001b[0m\u001b[1;33m]\u001b[0m\u001b[1;33m,\u001b[0m \u001b[1;34m\" = \"\u001b[0m\u001b[1;33m,\u001b[0m \u001b[0mdata\u001b[0m\u001b[1;33m[\u001b[0m\u001b[1;34m\"muertes\"\u001b[0m\u001b[1;33m]\u001b[0m\u001b[1;33m[\u001b[0m\u001b[0mn\u001b[0m\u001b[1;33m]\u001b[0m\u001b[1;33m)\u001b[0m\u001b[1;33m\u001b[0m\u001b[1;33m\u001b[0m\u001b[0m\n\u001b[0;32m      3\u001b[0m \u001b[1;33m\u001b[0m\u001b[0m\n\u001b[1;32m----> 4\u001b[1;33m \u001b[0mconfirmados_ultimas_24h\u001b[0m \u001b[1;33m=\u001b[0m \u001b[0mdata\u001b[0m\u001b[1;33m[\u001b[0m\u001b[1;34m\"confirmados\"\u001b[0m\u001b[1;33m]\u001b[0m\u001b[1;33m[\u001b[0m\u001b[0mn\u001b[0m\u001b[1;33m]\u001b[0m \u001b[1;33m-\u001b[0m \u001b[0mdata\u001b[0m\u001b[1;33m[\u001b[0m\u001b[1;34m\"confirmados\"\u001b[0m\u001b[1;33m]\u001b[0m\u001b[1;33m[\u001b[0m\u001b[0mn\u001b[0m\u001b[1;33m-\u001b[0m\u001b[1;36m1\u001b[0m\u001b[1;33m]\u001b[0m\u001b[1;33m\u001b[0m\u001b[1;33m\u001b[0m\u001b[0m\n\u001b[0m\u001b[0;32m      5\u001b[0m \u001b[0mprint\u001b[0m\u001b[1;33m(\u001b[0m\u001b[1;34m\"Confirmados ultimas 24h = \"\u001b[0m\u001b[1;33m,\u001b[0m \u001b[0mconfirmados_ultimas_24h\u001b[0m \u001b[1;33m)\u001b[0m\u001b[1;33m\u001b[0m\u001b[1;33m\u001b[0m\u001b[0m\n\u001b[0;32m      6\u001b[0m \u001b[1;33m\u001b[0m\u001b[0m\n",
      "\u001b[1;31mTypeError\u001b[0m: unsupported operand type(s) for -: 'str' and 'str'"
     ]
    }
   ],
   "source": [
    "\n",
    "print(\"Total de Confirmados \", data[\"dia\"][n], \" = \", data[\"confirmados\"][n] )\n",
    "print(\"Total de Fallecidos al \", data[\"dia\"][n], \" = \", data[\"muertes\"][n])\n",
    "\n",
    "confirmados_ultimas_24h = data[\"confirmados\"][n] - data[\"confirmados\"][n-1]\n",
    "print(\"Confirmados ultimas 24h = \", confirmados_ultimas_24h )\n",
    "\n",
    "muertes_ultimas_24h = data[\"muertes\"][n] - data[\"muertes\"][n-1]\n",
    "print(\"Fallecidos ultimas 24h = \", muertes_ultimas_24h )\n",
    "\n"
   ]
  },
  {
   "cell_type": "markdown",
   "metadata": {},
   "source": [
    "### Se agregan 2 columnas mas a un nuevo dataset con las diferencias diarias de Confirmados y Fallecidos"
   ]
  },
  {
   "cell_type": "code",
   "execution_count": null,
   "metadata": {},
   "outputs": [],
   "source": [
    "#df_nro_confirmados_dia = pd.DataFrame(dict(nro_confirmados_dia = data[\"confirmados\"][1] - data[\"confirmados\"][0]))\n",
    "\n",
    "d = []\n",
    "\n",
    "for i in range(0,n+1):\n",
    "    if (i==0):\n",
    "        diff_confirmados = 0\n",
    "        diff_muertes = 0\n",
    "        d.append((diff_confirmados,diff_muertes))\n",
    "    else:\n",
    "        diff_confirmados = data[\"confirmados\"][i] - data[\"confirmados\"][i-1]\n",
    "        diff_muertes = data[\"muertes\"][i] - data[\"muertes\"][i-1]\n",
    "        d.append((diff_confirmados,diff_muertes))\n",
    "    \n",
    "    \n",
    "df = pd.DataFrame(d, columns=(\"Confirmados_ult_24h\", \"Fallecidos_ult_24h\"))\n",
    "#   print(i, \"\\n\")\n",
    "data2 = pd.concat([data,df], axis=1)\n",
    "\n",
    "data2\n",
    "#nro_confirmados_dia"
   ]
  },
  {
   "cell_type": "code",
   "execution_count": null,
   "metadata": {},
   "outputs": [],
   "source": [
    "data2.describe()"
   ]
  },
  {
   "cell_type": "code",
   "execution_count": null,
   "metadata": {},
   "outputs": [],
   "source": [
    "data=[]   ## Libero memoria\n"
   ]
  },
  {
   "cell_type": "markdown",
   "metadata": {},
   "source": [
    "### Se grafican todas las columnas del nuevo dataset"
   ]
  },
  {
   "cell_type": "code",
   "execution_count": null,
   "metadata": {},
   "outputs": [],
   "source": [
    "#dias = [np.array(calendar.mdays)[0:i].sum() + 1 for i in np.arange(6)+1]\n",
    "#dias\n",
    "\n",
    "np.arange(0, n, step=20)"
   ]
  },
  {
   "cell_type": "markdown",
   "metadata": {},
   "source": [
    "## Para graficar los datos respecto a evolución de Casos Confirmados y de las Últimas 24 Horas"
   ]
  },
  {
   "cell_type": "code",
   "execution_count": null,
   "metadata": {},
   "outputs": [],
   "source": [
    "#data.plot(kind=\"line\", x=\"dia\" , y= [\"confirmados\", \"muertes\"], figsize = (10,5), fontsize=20 )\n",
    "#plt.figure(figsize= [100000, 100000])\n",
    "\n",
    "fig, ax1 = plt.subplots(figsize=(10, 5))\n",
    "\n",
    "color = 'tab:blue'\n",
    "\n",
    "plt.title(\"Evolución de Casos Confirmados y de las Últimas 24 Horas\", fontsize=14)\n",
    "ax1.set_ylabel('Numero de Casos Confirmados', color=color)\n",
    "ax1.plot(data2[\"confirmados\"], color=color, linewidth=3, label=\"Hola\")\n",
    "plt.grid(True)\n",
    "ax1.tick_params(axis='y', labelcolor=color)\n",
    "#dias = [np.array(calendar.mdays)[0:i].sum() + 1 for i in np.arange(5)+1]# Para generar el lugar del primer días de cada mes en un año\n",
    "dias=np.arange(0, n, step=20)\n",
    "meses = [data2[\"dia\"][0], data2[\"dia\"][20], data2[\"dia\"][40], data2[\"dia\"][60], data2[\"dia\"][80]]\n",
    "plt.xticks( dias, meses, size = 'large', color = 'purple', rotation = 45)  # Colocamos las etiquetas, meses, en las posicione\n",
    "\n",
    "ax2 = ax1.twinx()  # instantiate a second axes that shares the same x-axis\n",
    "color = 'tab:orange'\n",
    "#data2.plot(x=\"dia\",y=[\"confirmados\"], figsize=(10,10), linewidth=5 )\n",
    "\n",
    "ax2.set_ylabel('Numero de Casos Confirmados Ultimas 24hrs', color=color)  # we already handled the x-label with ax1\n",
    "#ax2.plot(data2[\"dia\"], data2[\"Confirmados_ult_24h\"], label=\"Conf_ult_24h\", data2[\"Fallecidos_ult_24h\"], label=\"Fallec._ult_24h\")\n",
    "ax2.plot(data2[\"Confirmados_ult_24h\"], color=color, linewidth=3)\n",
    "plt.grid(True)\n",
    "ax2.tick_params(axis='y', labelcolor=color)\n",
    "#dias = [np.array(calendar.mdays)[0:i].sum() + 1 for i in np.arange(5)+1]  # Para generar el lugar del primer días de cada mes en un año\n",
    "dias=np.arange(0, n, step=20)\n",
    "meses = [data2[\"dia\"][0], data2[\"dia\"][20], data2[\"dia\"][40], data2[\"dia\"][60], data2[\"dia\"][80]]\n",
    "plt.xticks(dias, meses, size = 'large', color = 'purple', rotation = 45)  # Colocamos las etiquetas, meses, en las posicione\n",
    "\n",
    "\n",
    "#ig.tight_layout()  # otherwise the right y-label is slightly clipped\n",
    "plt.show()\n",
    "\n",
    "\n",
    "\n",
    "\n",
    "\n",
    "\n",
    "\n",
    "\n"
   ]
  },
  {
   "cell_type": "markdown",
   "metadata": {},
   "source": [
    "## Para graficar los datos respecto a evolución de Casos de Fallecidos y de las Últimas 24 Horas"
   ]
  },
  {
   "cell_type": "code",
   "execution_count": null,
   "metadata": {},
   "outputs": [],
   "source": [
    "#data.plot(kind=\"line\", x=\"dia\" , y= [\"confirmados\", \"muertes\"], figsize = (10,5), fontsize=20 )\n",
    "#plt.figure(figsize= [100000, 100000])\n",
    "\n",
    "fig, ax3 = plt.subplots(figsize=(10, 5))\n",
    "\n",
    "color = 'tab:red'\n",
    "\n",
    "plt.title(\"Evolución de Casos de Fallecidos y de las Últimas 24 Horas\", fontsize=14)\n",
    "ax3.set_ylabel('Numero de Casos de Fallecidos', color=color)\n",
    "ax3.plot(data2[\"muertes\"], color=color, linewidth=3, label=\"Fallecidos\")\n",
    "plt.grid(True)\n",
    "ax3.tick_params(axis='y', labelcolor=color)\n",
    "#dias = [np.array(calendar.mdays)[0:i].sum() + 1 for i in np.arange(5)+1]# Para generar el lugar del primer días de cada mes en un año\n",
    "dias=np.arange(0, n, step=20)\n",
    "meses = [data2[\"dia\"][0], data2[\"dia\"][20], data2[\"dia\"][40], data2[\"dia\"][60], data2[\"dia\"][80]]\n",
    "plt.xticks( dias, meses, size = 'large', color = 'purple', rotation = 45)  # Colocamos las etiquetas, meses, en las posicione\n",
    "\n",
    "ax4 = ax3.twinx()  # instantiate a second axes that shares the same x-axis\n",
    "color = 'tab:cyan'\n",
    "#data2.plot(x=\"dia\",y=[\"confirmados\"], figsize=(10,10), linewidth=5 )\n",
    "\n",
    "ax4.set_ylabel('Numero de Casos de Fallecidos Ultimas 24hrs', color=color)  # we already handled the x-label with ax1\n",
    "#ax2.plot(data2[\"dia\"], data2[\"Confirmados_ult_24h\"], label=\"Conf_ult_24h\", data2[\"Fallecidos_ult_24h\"], label=\"Fallec._ult_24h\")\n",
    "ax4.plot(data2[\"Fallecidos_ult_24h\"], color=color, linewidth=3)\n",
    "plt.grid(True)\n",
    "ax4.tick_params(axis='y', labelcolor=color)\n",
    "#dias = [np.array(calendar.mdays)[0:i].sum() + 1 for i in np.arange(5)+1]  # Para generar el lugar del primer días de cada mes en un año\n",
    "dias=np.arange(0, n, step=20)\n",
    "meses = [data2[\"dia\"][0], data2[\"dia\"][20], data2[\"dia\"][40], data2[\"dia\"][60], data2[\"dia\"][80]]\n",
    "plt.xticks(dias, meses, size = 'large', color = 'purple', rotation = 45)  # Colocamos las etiquetas, meses, en las posicione\n",
    "\n",
    "#fig.tight_layout()  # otherwise the right y-label is slightly clipped\n",
    "plt.show()\n",
    "\n",
    "\n",
    "\n",
    "\n",
    "\n",
    "\n",
    "\n",
    "\n"
   ]
  },
  {
   "cell_type": "markdown",
   "metadata": {},
   "source": [
    "## Se grafican las columnas en forma separada"
   ]
  },
  {
   "cell_type": "code",
   "execution_count": null,
   "metadata": {},
   "outputs": [],
   "source": [
    "plt.figure(figsize= [20, 20])\n",
    "\n",
    "#fig, ax = plt.subplots()\n",
    "\n",
    "plt.subplot(231)\n",
    "#data2.plot( x=\"dia\", y=\"confirmados\" )\n",
    "plt.plot(data2[\"dia\"], data2[\"confirmados\"], 'bo-', linewidth=1)\n",
    "plt.title('Confirmados escala lineal')\n",
    "plt.grid(True)\n",
    "#dias = [np.array(calendar.mdays)[0:i].sum() + 1 for i in np.arange(5)+1]  # Para generar el lugar del primer días de cada mes en un año\n",
    "dias=np.arange(0, n, step=20)\n",
    "meses = [data2[\"dia\"][0], data2[\"dia\"][20], data2[\"dia\"][40], data2[\"dia\"][60], data2[\"dia\"][80]]\n",
    "plt.xticks(dias, meses, size = 'large', color = 'purple', rotation = 45)  # Colocamos las etiquetas, meses, en las posicione\n",
    "#meses = [\"Marzo\", \"Abril\", \"Mayo\", \"Junio\"]\n",
    "plt.xticks(dias, meses, size = 'large', color = 'purple', rotation = 45)  # Colocamos las etiquetas, meses, en las posicione\n",
    "plt.ylabel(\"Numero de personas\")\n",
    "\n",
    "#start, end = ax.get_xlim()\n",
    "#ax.xaxis.set_ticks(range(start, end, 10))\n",
    "\n",
    "plt.subplot(232)\n",
    "#data2.plot( x=\"dia\", y=\"confirmados\" )\n",
    "plt.plot(data2[\"dia\"], data2[\"confirmados\"], 'bo-', linewidth=1)\n",
    "plt.yscale('log')\n",
    "plt.title('Confirmados escala logaritmica')\n",
    "plt.grid(True)\n",
    "#plt.xticks(rotation=90)\n",
    "#dias = [np.array(calendar.mdays)[0:i].sum() + 1 for i in np.arange(5)+1]  # Para generar el lugar del primer días de cada mes en un año\n",
    "#meses = [\"Marzo\", \"Abril\", \"Mayo\", \"Junio\"]\n",
    "dias=np.arange(0, n, step=20)\n",
    "meses = [data2[\"dia\"][0], data2[\"dia\"][20], data2[\"dia\"][40], data2[\"dia\"][60], data2[\"dia\"][80]]\n",
    "plt.xticks(dias, meses, size = 'large', color = 'purple', rotation = 45)  # Colocamos las etiquetas, meses, en las posicione\n",
    "\n",
    "\n",
    "plt.subplot(233)\n",
    "#data2.plot( x=\"dia\", y=\"confirmados\" )\n",
    "plt.plot(data2[\"dia\"], data2[\"Confirmados_ult_24h\"], 'bo-', linewidth=1)\n",
    "plt.title('Confirmados ult.24h')\n",
    "plt.grid(True)\n",
    "#plt.xticks(rotation=90)\n",
    "#dias = [np.array(calendar.mdays)[0:i].sum() + 1 for i in np.arange(5)+1]  # Para generar el lugar del primer días de cada mes en un año\n",
    "#meses = [\"Marzo\", \"Abril\", \"Mayo\", \"Junio\"]\n",
    "dias=np.arange(0, n, step=20)\n",
    "meses = [data2[\"dia\"][0], data2[\"dia\"][20], data2[\"dia\"][40], data2[\"dia\"][60], data2[\"dia\"][80]]\n",
    "plt.xticks(dias, meses, size = 'large', color = 'purple', rotation = 45)  # Colocamos las etiquetas, meses, en las posicione\n",
    "\n",
    "\n",
    "plt.subplot(234)\n",
    "#data2.plot( x=\"dia\", y=\"muertes\" )\n",
    "plt.plot(data2[\"dia\"], data2[\"muertes\"], 'ro-', linewidth=1 )\n",
    "plt.title('Muertes escala lineal')\n",
    "plt.grid(True)\n",
    "#plt.xticks(rotation=90)\n",
    "#dias = [np.array(calendar.mdays)[0:i].sum() + 1 for i in np.arange(5)+1]  # Para generar el lugar del primer días de cada mes en un año\n",
    "#meses = [\"Marzo\", \"Abril\", \"Mayo\", \"Junio\"]\n",
    "dias=np.arange(0, n, step=20)\n",
    "meses = [data2[\"dia\"][0], data2[\"dia\"][20], data2[\"dia\"][40], data2[\"dia\"][60], data2[\"dia\"][80]]\n",
    "plt.xticks(dias, meses, size = 'large', color = 'purple', rotation = 45)  # Colocamos las etiquetas, meses, en las posicione\n",
    "plt.ylabel(\"Numero de personas\")\n",
    "\n",
    "plt.subplot(235)\n",
    "#data2.plot( x=\"dia\", y=\"muertes\" )\n",
    "plt.plot(data2[\"dia\"], data2[\"muertes\"], 'ro-', linewidth=1 )\n",
    "plt.yscale('log')\n",
    "plt.title('Muertes escala logaritmica')\n",
    "plt.grid(True)\n",
    "#plt.xticks(rotation=90)\n",
    "#dias = [np.array(calendar.mdays)[0:i].sum() + 1 for i in np.arange(5)+1]  # Para generar el lugar del primer días de cada mes en un año\n",
    "#meses = [\"Marzo\", \"Abril\", \"Mayo\", \"Junio\"]\n",
    "dias=np.arange(0, n, step=20)\n",
    "meses = [data2[\"dia\"][0], data2[\"dia\"][20], data2[\"dia\"][40], data2[\"dia\"][60], data2[\"dia\"][80]]\n",
    "plt.xticks(dias, meses, size = 'large', color = 'purple', rotation = 45)  # Colocamos las etiquetas, meses, en las posicione\n",
    "\n",
    "\n",
    "plt.subplot(236)\n",
    "#data2.plot( x=\"dia\", y=\"confirmados\" )\n",
    "#plt.bar(data2[\"dia\"], data2[\"Fallecidos_ult_24h\"], color=\"red\")\n",
    "plt.plot(data2[\"dia\"], data2[\"Fallecidos_ult_24h\"], 'ro-', linewidth=1 )\n",
    "plt.title('Fallecidos ult.24h')\n",
    "plt.grid(True)\n",
    "#plt.xticks(rotation=90)\n",
    "#dias = [np.array(calendar.mdays)[0:i].sum() + 1 for i in np.arange(5)+1]  # Para generar el lugar del primer días de cada mes en un año\n",
    "#meses = [\"Marzo\", \"Abril\", \"Mayo\", \"Junio\"]\n",
    "dias=np.arange(0, n, step=20)\n",
    "meses = [data2[\"dia\"][0], data2[\"dia\"][20], data2[\"dia\"][40], data2[\"dia\"][60], data2[\"dia\"][80]]\n",
    "plt.xticks(dias, meses, size = 'large', color = 'purple', rotation = 45)  # Colocamos las etiquetas, meses, en las posicione\n",
    "\n",
    "\n",
    "# Format the minor tick labels of the y-axis into empty strings with\n",
    "# `NullFormatter`, to avoid cumbering the axis with too many labels.\n",
    "#plt.gca().yaxis.set_minor_formatter(NullFormatter())\n",
    "\n",
    "# Adjust the subplot layout, because the logit one may take more space\n",
    "# than usual, due to y-tick labels like \"1 - 10^{-3}\"\n",
    "#plt.subplots_adjust(top=0.92, bottom=0.08, left=0.10, right=0.95, hspace=0.25,wspace=0.35)\n",
    "\n",
    "plt.show()\n",
    "\n"
   ]
  },
  {
   "cell_type": "code",
   "execution_count": null,
   "metadata": {},
   "outputs": [],
   "source": []
  },
  {
   "cell_type": "code",
   "execution_count": null,
   "metadata": {},
   "outputs": [],
   "source": [
    "url_pacientes_en_uci = \"https://raw.githubusercontent.com/jorgeperezrojas/covid19-data/master/csv/pacientes_en_uci.csv\"\n",
    "data3 = pd.read_csv(url_pacientes_en_uci)"
   ]
  },
  {
   "cell_type": "code",
   "execution_count": null,
   "metadata": {},
   "outputs": [],
   "source": [
    "data3"
   ]
  },
  {
   "cell_type": "code",
   "execution_count": null,
   "metadata": {},
   "outputs": [],
   "source": [
    "data3.plot()"
   ]
  },
  {
   "cell_type": "code",
   "execution_count": null,
   "metadata": {},
   "outputs": [],
   "source": []
  }
 ],
 "metadata": {
  "kernelspec": {
   "display_name": "Python 3",
   "language": "python",
   "name": "python3"
  },
  "language_info": {
   "codemirror_mode": {
    "name": "ipython",
    "version": 3
   },
   "file_extension": ".py",
   "mimetype": "text/x-python",
   "name": "python",
   "nbconvert_exporter": "python",
   "pygments_lexer": "ipython3",
   "version": "3.7.6"
  }
 },
 "nbformat": 4,
 "nbformat_minor": 4
}
